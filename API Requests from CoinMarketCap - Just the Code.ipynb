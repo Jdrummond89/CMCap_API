{
 "cells": [
  {
   "cell_type": "code",
   "execution_count": null,
   "id": "a909bb4b",
   "metadata": {},
   "outputs": [],
   "source": [
    "# Setting up CoinMarketCap API requests w/ my unique API Key\n",
    "# If you're using my code from GitHub, make sure you change your data limit to allow max amounts -JDrummond \n",
    "    # from the command line:\n",
    "    # jupyter notebook --NotebookApp.iopub_data_rate_limit=1e10\n",
    "# For the sake of this demo, I'm setting my API 'limit' to 5 just to keep my RAM unused\n",
    "\n",
    "from requests import Request, Session\n",
    "from requests.exceptions import ConnectionError, Timeout, TooManyRedirects\n",
    "import json\n",
    "\n",
    "url = 'https://pro-api.coinmarketcap.com/v1/cryptocurrency/listings/latest'\n",
    "parameters = {\n",
    "  'start':'1',\n",
    "  'limit':'5',\n",
    "  'convert':'USD'\n",
    "}\n",
    "headers = {\n",
    "  'Accepts': 'application/json',\n",
    "  'X-CMC_PRO_API_KEY': '09bfc317-0595-49ac-8a8b-3c9766fa29e4',\n",
    "}\n",
    "\n",
    "session = Session()\n",
    "session.headers.update(headers)\n",
    "\n",
    "try:\n",
    "  response = session.get(url, params=parameters)\n",
    "  data = json.loads(response.text)\n",
    "  print(data)\n",
    "except (ConnectionError, Timeout, TooManyRedirects) as e:\n",
    "  print(e)"
   ]
  },
  {
   "cell_type": "code",
   "execution_count": null,
   "id": "593b9dad",
   "metadata": {},
   "outputs": [],
   "source": [
    "# let's import pandas with the alias of 'as'\n",
    "# test .json_normalize to check if it's sorting correctly \n",
    "# it should be displaying in standard notation, we will change that later \n",
    "\n",
    "import pandas as pd\n",
    "\n",
    "pd.json_normalize(data['data'])"
   ]
  },
  {
   "cell_type": "code",
   "execution_count": null,
   "id": "c954ec1f",
   "metadata": {},
   "outputs": [],
   "source": [
    "# if all is sorted correctly, set option display to max columns \n",
    "# if you're pulling in a lot of rows and not limited to 5, use:\n",
    "    # pd.set_option('display.max_rows', None)\n",
    "\n",
    "pd.set_option('display.max_columns', None)\n",
    "pd.json_normalize(data['data'])"
   ]
  },
  {
   "cell_type": "code",
   "execution_count": null,
   "id": "b6fecfe4",
   "metadata": {},
   "outputs": [],
   "source": [
    "# let's add a timestamp to show when pulls were fetched and place it in a 'df' variable \n",
    "\n",
    "df = pd.json_normalize(data['data'])\n",
    "df['timestamp'] = pd.to_datetime('now', utc=True)\n",
    "df"
   ]
  },
  {
   "cell_type": "code",
   "execution_count": null,
   "id": "7a14e2fe",
   "metadata": {},
   "outputs": [],
   "source": [
    "# let's create a function to store all this so we can automate it later to a .csv\n",
    "# If you don't want to create a .csv file, create a second dataframe so you can append to new table \n",
    "    # first, delete or comment out the if else function for the .csv append. then:\n",
    "    #    df2 = pd.json_normalize(data['data'])\n",
    "    #    df2['timestamp'] = pd.to_datetime('now', utc=True)\n",
    "    #    df_append = pd.DataFrame(df2)\n",
    "    #    df = pd.concat([df2, df_append])\n",
    "\n",
    "def api_runner():\n",
    "    global df\n",
    "    from requests import Request, Session\n",
    "    from requests.exceptions import ConnectionError, Timeout, TooManyRedirects\n",
    "    import json\n",
    "\n",
    "    url = 'https://pro-api.coinmarketcap.com/v1/cryptocurrency/listings/latest'\n",
    "    parameters = {\n",
    "      'start':'1',\n",
    "      'limit':'5',\n",
    "      'convert':'USD'\n",
    "    }\n",
    "    headers = {\n",
    "      'Accepts': 'application/json',\n",
    "      'X-CMC_PRO_API_KEY': '09bfc317-0595-49ac-8a8b-3c9766fa29e4',\n",
    "    }\n",
    "\n",
    "    session = Session()\n",
    "    session.headers.update(headers)\n",
    "\n",
    "    try:\n",
    "      response = session.get(url, params=parameters)\n",
    "      data = json.loads(response.text)\n",
    "      print(data)\n",
    "    except (ConnectionError, Timeout, TooManyRedirects) as e:\n",
    "      print(e)\n",
    "    \n",
    "    df = pd.json_normalize(data['data'])\n",
    "    df['timestamp'] = pd.to_datetime('now', utc=True)\n",
    "    df\n",
    "    \n",
    "    # write this pulled data into a .csv file \n",
    "    \n",
    "    if not os.path.isfile(r'C:\\Users\\pc-47\\Desktop\\Python SQL\\CMC_API.csv'):\n",
    "        df.to_csv(r'C:\\Users\\pc-47\\Desktop\\Python SQL\\CMC_API.csv', header = 'columns_names')\n",
    "    else:\n",
    "       df.to_csv(r'C:\\Users\\pc-47\\Desktop\\Python SQL\\CMC_API.csv', mode = 'a', header=False) "
   ]
  },
  {
   "cell_type": "code",
   "execution_count": null,
   "id": "b037896e",
   "metadata": {},
   "outputs": [],
   "source": [
    "# Setting our loop to 333 times because that is our daily limit with CMC \n",
    "# I'll set the sleep time for 10 seconds for the sake of this code, but if you really wanted this API, set it to \n",
    "    # whatever variable amount of time you want to use 333 times per day\n",
    "\n",
    "import os #operating system\n",
    "from time import time \n",
    "from time import sleep\n",
    "\n",
    "for i in range(333):\n",
    "    api_runner()\n",
    "    print('API Runner Pull Completed')\n",
    "    sleep(10)\n",
    "exit()"
   ]
  },
  {
   "cell_type": "code",
   "execution_count": null,
   "id": "680d3e90",
   "metadata": {},
   "outputs": [],
   "source": [
    "# We can use pandas to read our .csv file here if we want\n",
    "# save it into a new variable to call later if needed\n",
    "\n",
    "df_csv = pd.read_csv(r'C:\\Users\\pc-47\\Desktop\\Python SQL\\CMC_API.csv')\n",
    "df_csv"
   ]
  },
  {
   "cell_type": "code",
   "execution_count": null,
   "id": "e17b744e",
   "metadata": {},
   "outputs": [],
   "source": [
    "# let's clean the scientific notation so it's easier to read\n",
    "\n",
    "pd. set_option('display.float_format', lambda x: '%.5f' % x)\n",
    "df_csv"
   ]
  },
  {
   "cell_type": "code",
   "execution_count": null,
   "id": "c51fdbd7",
   "metadata": {},
   "outputs": [],
   "source": [
    "# let's now group by 'name' of crypto by the average/mean so we can combine btc, eth, etc. \n",
    "# NOTE: you can't group by unless it's a mean, median, mode, etc\n",
    "\n",
    "df_grouped = df_csv.groupby('name', sort=False)[['quote.USD.percent_change_1h', 'quote.USD.percent_change_24h', 'quote.USD.percent_change_7d', 'quote.USD.percent_change_30d', 'quote.USD.percent_change_60d', 'quote.USD.percent_change_90d']].mean()\n",
    "df_grouped"
   ]
  },
  {
   "cell_type": "code",
   "execution_count": null,
   "id": "5621ca94",
   "metadata": {},
   "outputs": [],
   "source": [
    "# We can't use pulled data to visualize unless we stack or pivot it to rows, not columns \n",
    "# So let's convert this data frame to a stack \n",
    "# NOTE: stacked data in pandas will be stored as a 'core.series' not in a data frame\n",
    "\n",
    "df_stack = df_grouped.stack()\n",
    "df_stack"
   ]
  },
  {
   "cell_type": "code",
   "execution_count": null,
   "id": "cd2f52ff",
   "metadata": {},
   "outputs": [],
   "source": [
    "# Convert the series back to a data frame sorted by 'values' we create \n",
    "\n",
    "df_DataFrames = df_stack.to_frame(name='values')\n",
    "df_DataFrames"
   ]
  },
  {
   "cell_type": "code",
   "execution_count": null,
   "id": "51c334fe",
   "metadata": {},
   "outputs": [],
   "source": [
    "# Need to get rid of 'name' being used as the index, so let's reset the index to read our current state of our data \n",
    "\n",
    "index = pd.Index(range(30))\n",
    "\n",
    "df_index = df_DataFrames.reset_index()\n",
    "df_index"
   ]
  },
  {
   "cell_type": "code",
   "execution_count": null,
   "id": "12a857a1",
   "metadata": {},
   "outputs": [],
   "source": [
    "# Let's rename the 'level_1' column and store it in a new variable \n",
    "\n",
    "df_rename = df_index.rename(columns={'level_1': 'percent_change'})\n",
    "df_rename"
   ]
  },
  {
   "cell_type": "code",
   "execution_count": null,
   "id": "bb58531e",
   "metadata": {},
   "outputs": [],
   "source": [
    "# let's change the 'percent_change' to only the hour to set up our x axis\n",
    "\n",
    "df_rename['percent_change'] = df_rename['percent_change'].replace(['quote.USD.percent_change_1h', 'quote.USD.percent_change_24h', 'quote.USD.percent_change_7d', 'quote.USD.percent_change_30d', 'quote.USD.percent_change_60d', 'quote.USD.percent_change_90d'], ['1h', '24h', '7d', '30d', '60d', '90d'])\n",
    "df_rename"
   ]
  },
  {
   "cell_type": "code",
   "execution_count": null,
   "id": "d491a385",
   "metadata": {},
   "outputs": [],
   "source": [
    "# let's start to visualize this data above with seaborn and matplotlib\n",
    "\n",
    "import seaborn as sns\n",
    "import matplotlib.pyplot as plt\n",
    "\n",
    "sns.catplot(x='percent_change', y='values', hue='name', data=df_rename, kind='point')\n",
    "plt.show()"
   ]
  },
  {
   "cell_type": "code",
   "execution_count": null,
   "id": "fe6f8204",
   "metadata": {},
   "outputs": [],
   "source": [
    "# let's just look at the price of our crypto from our original data frame .csv API data pulls  \n",
    "\n",
    "df_price = df_csv[['name', 'quote.USD.price', 'timestamp']]\n",
    "df_price"
   ]
  },
  {
   "cell_type": "code",
   "execution_count": null,
   "id": "978883f2",
   "metadata": {},
   "outputs": [],
   "source": [
    "# let's 'query' into this list now and just select 'Bitcoin' with the timestamps of when we pulled it\n",
    "\n",
    "df_price = df_csv[['name', 'quote.USD.price', 'timestamp']]\n",
    "df_price = df_price.query(\"name == 'Bitcoin'\")\n",
    "df_price"
   ]
  },
  {
   "cell_type": "code",
   "execution_count": null,
   "id": "f64b9c37",
   "metadata": {},
   "outputs": [],
   "source": [
    "# let's create a line plot to show the change of BTC over the time we pulled the data \n",
    "# ideally we should convert the timestamps to a better format \n",
    "\n",
    "sns.set_theme(style='darkgrid')\n",
    "\n",
    "sns.lineplot(x='timestamp', y='quote.USD.price', data=df_price)\n",
    "plt.show()"
   ]
  },
  {
   "cell_type": "code",
   "execution_count": null,
   "id": "b68cfb1a",
   "metadata": {},
   "outputs": [],
   "source": []
  }
 ],
 "metadata": {
  "kernelspec": {
   "display_name": "Python 3 (ipykernel)",
   "language": "python",
   "name": "python3"
  },
  "language_info": {
   "codemirror_mode": {
    "name": "ipython",
    "version": 3
   },
   "file_extension": ".py",
   "mimetype": "text/x-python",
   "name": "python",
   "nbconvert_exporter": "python",
   "pygments_lexer": "ipython3",
   "version": "3.9.13"
  }
 },
 "nbformat": 4,
 "nbformat_minor": 5
}
