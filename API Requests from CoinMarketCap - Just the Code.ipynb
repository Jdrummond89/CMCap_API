{
 "cells": [
  {
   "cell_type": "code",
   "execution_count": null,
   "id": "298a0feb",
   "metadata": {},
   "outputs": [],
   "source": [
    "# Setting up CoinMarketCap API requests w/ my unique API Key\n",
    "# If you're using my code from GitHub, make sure you change your data limit to allow max amounts -JDrummond \n",
    "    # from the command line:\n",
    "    # jupyter notebook --NotebookApp.iopub_data_rate_limit=1e10\n",
    "# For the sake of this demo, I'm setting my API 'limit' to 5 just to keep my RAM unused\n",
    "\n",
    "from requests import Request, Session\n",
    "from requests.exceptions import ConnectionError, Timeout, TooManyRedirects\n",
    "import json\n",
    "\n",
    "url = 'https://pro-api.coinmarketcap.com/v1/cryptocurrency/listings/latest'\n",
    "parameters = {\n",
    "  'start':'1',\n",
    "  'limit':'5',\n",
    "  'convert':'USD'\n",
    "}\n",
    "headers = {\n",
    "  'Accepts': 'application/json',\n",
    "  'X-CMC_PRO_API_KEY': '09bfc317-0595-49ac-8a8b-3c9766fa29e4',\n",
    "}\n",
    "\n",
    "session = Session()\n",
    "session.headers.update(headers)\n",
    "\n",
    "try:\n",
    "  response = session.get(url, params=parameters)\n",
    "  data = json.loads(response.text)\n",
    "  print(data)\n",
    "except (ConnectionError, Timeout, TooManyRedirects) as e:\n",
    "  print(e)"
   ]
  },
  {
   "cell_type": "code",
   "execution_count": null,
   "id": "217d5294",
   "metadata": {},
   "outputs": [],
   "source": [
    "import pandas as pd\n",
    "\n",
    "pd.json_normalize(data['data'])"
   ]
  },
  {
   "cell_type": "code",
   "execution_count": null,
   "id": "cde246ca",
   "metadata": {},
   "outputs": [],
   "source": [
    "pd.set_option('display.max_columns', None)\n",
    "pd.json_normalize(data['data'])"
   ]
  },
  {
   "cell_type": "code",
   "execution_count": null,
   "id": "f66b23ad",
   "metadata": {},
   "outputs": [],
   "source": [
    "df = pd.json_normalize(data['data'])\n",
    "df['timestamp'] = pd.to_datetime('now', utc=True)\n",
    "df"
   ]
  },
  {
   "cell_type": "code",
   "execution_count": null,
   "id": "203e26c6",
   "metadata": {},
   "outputs": [],
   "source": [
    "def api_runner():\n",
    "    global df\n",
    "    from requests import Request, Session\n",
    "    from requests.exceptions import ConnectionError, Timeout, TooManyRedirects\n",
    "    import json\n",
    "\n",
    "    url = 'https://pro-api.coinmarketcap.com/v1/cryptocurrency/listings/latest'\n",
    "    parameters = {\n",
    "      'start':'1',\n",
    "      'limit':'5',\n",
    "      'convert':'USD'\n",
    "    }\n",
    "    headers = {\n",
    "      'Accepts': 'application/json',\n",
    "      'X-CMC_PRO_API_KEY': '09bfc317-0595-49ac-8a8b-3c9766fa29e4',\n",
    "    }\n",
    "\n",
    "    session = Session()\n",
    "    session.headers.update(headers)\n",
    "\n",
    "    try:\n",
    "      response = session.get(url, params=parameters)\n",
    "      data = json.loads(response.text)\n",
    "      print(data)\n",
    "    except (ConnectionError, Timeout, TooManyRedirects) as e:\n",
    "      print(e)\n",
    "    \n",
    "    df = pd.json_normalize(data['data'])\n",
    "    df['timestamp'] = pd.to_datetime('now', utc=True)\n",
    "    df\n",
    "    \n",
    "    # write this pulled data into a .csv file \n",
    "    \n",
    "    if not os.path.isfile(r'C:\\Users\\pc-47\\Desktop\\Python SQL\\CMC_API.csv'):\n",
    "        df.to_csv(r'C:\\Users\\pc-47\\Desktop\\Python SQL\\CMC_API.csv', header = 'columns_names')\n",
    "    else:\n",
    "       df.to_csv(r'C:\\Users\\pc-47\\Desktop\\Python SQL\\CMC_API.csv', mode = 'a', header=False) "
   ]
  },
  {
   "cell_type": "code",
   "execution_count": null,
   "id": "61ed6e62",
   "metadata": {},
   "outputs": [],
   "source": [
    "import os\n",
    "from time import time \n",
    "from time import sleep\n",
    "\n",
    "for i in range(333):\n",
    "    api_runner()\n",
    "    print('API Runner Pull Completed')\n",
    "    sleep(10)\n",
    "exit()"
   ]
  },
  {
   "cell_type": "code",
   "execution_count": null,
   "id": "83a4fce9",
   "metadata": {},
   "outputs": [],
   "source": [
    "df_csv = pd.read_csv(r'C:\\Users\\pc-47\\Desktop\\Python SQL\\CMC_API.csv')\n",
    "df_csv"
   ]
  },
  {
   "cell_type": "code",
   "execution_count": null,
   "id": "69eee564",
   "metadata": {},
   "outputs": [],
   "source": [
    "pd. set_option('display.float_format', lambda x: '%.5f' % x)\n",
    "df_csv"
   ]
  },
  {
   "cell_type": "code",
   "execution_count": null,
   "id": "05e4140b",
   "metadata": {},
   "outputs": [],
   "source": [
    "df_grouped = df_csv.groupby('name', sort=False)[['quote.USD.percent_change_1h', 'quote.USD.percent_change_24h', 'quote.USD.percent_change_7d', 'quote.USD.percent_change_30d', 'quote.USD.percent_change_60d', 'quote.USD.percent_change_90d']].mean()\n",
    "df_grouped"
   ]
  },
  {
   "cell_type": "code",
   "execution_count": null,
   "id": "c84779d1",
   "metadata": {},
   "outputs": [],
   "source": [
    "df_stack = df_grouped.stack()\n",
    "df_stack"
   ]
  },
  {
   "cell_type": "code",
   "execution_count": null,
   "id": "da4ed744",
   "metadata": {},
   "outputs": [],
   "source": [
    "df_DataFrames = df_stack.to_frame(name='values')\n",
    "df_DataFrames"
   ]
  },
  {
   "cell_type": "code",
   "execution_count": null,
   "id": "8236f8a2",
   "metadata": {},
   "outputs": [],
   "source": [
    "index = pd.Index(range(30))\n",
    "\n",
    "df_index = df_DataFrames.reset_index()\n",
    "df_index"
   ]
  },
  {
   "cell_type": "code",
   "execution_count": null,
   "id": "68c8d28d",
   "metadata": {},
   "outputs": [],
   "source": [
    "df_rename = df_index.rename(columns={'level_1': 'percent_change'})\n",
    "df_rename"
   ]
  },
  {
   "cell_type": "code",
   "execution_count": null,
   "id": "5cc14e1d",
   "metadata": {},
   "outputs": [],
   "source": [
    "df_rename['percent_change'] = df_rename['percent_change'].replace(['quote.USD.percent_change_1h', 'quote.USD.percent_change_24h', 'quote.USD.percent_change_7d', 'quote.USD.percent_change_30d', 'quote.USD.percent_change_60d', 'quote.USD.percent_change_90d'], ['1h', '24h', '7d', '30d', '60d', '90d'])\n",
    "df_rename"
   ]
  },
  {
   "cell_type": "code",
   "execution_count": null,
   "id": "624e5d68",
   "metadata": {},
   "outputs": [],
   "source": [
    "import seaborn as sns\n",
    "import matplotlib.pyplot as plt\n",
    "\n",
    "sns.catplot(x='percent_change', y='values', hue='name', data=df_rename, kind='point')\n",
    "plt.show()"
   ]
  },
  {
   "cell_type": "code",
   "execution_count": null,
   "id": "b6c7b0c6",
   "metadata": {},
   "outputs": [],
   "source": [
    "df_price = df_csv[['name', 'quote.USD.price', 'timestamp']]\n",
    "df_price"
   ]
  },
  {
   "cell_type": "code",
   "execution_count": null,
   "id": "6ddfc93e",
   "metadata": {},
   "outputs": [],
   "source": [
    "df_price = df_csv[['name', 'quote.USD.price', 'timestamp']]\n",
    "df_price = df_price.query(\"name == 'Bitcoin'\")\n",
    "df_price"
   ]
  },
  {
   "cell_type": "code",
   "execution_count": null,
   "id": "78b48016",
   "metadata": {},
   "outputs": [],
   "source": [
    "sns.set_theme(style='darkgrid')\n",
    "\n",
    "sns.lineplot(x='timestamp', y='quote.USD.price', data=df_price)\n",
    "plt.show()"
   ]
  },
  {
   "cell_type": "code",
   "execution_count": null,
   "id": "dbe0d7c7",
   "metadata": {},
   "outputs": [],
   "source": []
  }
 ],
 "metadata": {
  "kernelspec": {
   "display_name": "Python 3 (ipykernel)",
   "language": "python",
   "name": "python3"
  },
  "language_info": {
   "codemirror_mode": {
    "name": "ipython",
    "version": 3
   },
   "file_extension": ".py",
   "mimetype": "text/x-python",
   "name": "python",
   "nbconvert_exporter": "python",
   "pygments_lexer": "ipython3",
   "version": "3.9.13"
  }
 },
 "nbformat": 4,
 "nbformat_minor": 5
}
